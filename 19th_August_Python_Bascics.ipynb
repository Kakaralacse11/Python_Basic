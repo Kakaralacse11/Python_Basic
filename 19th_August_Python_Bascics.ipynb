{
 "cells": [
  {
   "cell_type": "markdown",
   "id": "8953dfc9",
   "metadata": {},
   "source": [
    "Declare two variables, `x` and `y`, and assign them integer values.\n",
    "Swap the values of these variables without using any temporary\n",
    "variable."
   ]
  },
  {
   "cell_type": "code",
   "execution_count": 4,
   "id": "2e0ab84b",
   "metadata": {},
   "outputs": [
    {
     "name": "stdout",
     "output_type": "stream",
     "text": [
      "X value is 3 \n",
      "Y Value is 5\n"
     ]
    }
   ],
   "source": [
    "x = 5\n",
    "y = 3\n",
    "y = x + y\n",
    "x = y - x\n",
    "y = y - x\n",
    "print('X value is',x ,'\\n' 'Y Value is',y)"
   ]
  },
  {
   "cell_type": "markdown",
   "id": "f5e48bc7",
   "metadata": {},
   "source": [
    "Create a program that calculates the area of a rectangle. Take the\n",
    "length and width as inputs from the user and store them in variables.\n",
    "Calculate and display the area"
   ]
  },
  {
   "cell_type": "code",
   "execution_count": 6,
   "id": "f8e70e90",
   "metadata": {},
   "outputs": [
    {
     "name": "stdout",
     "output_type": "stream",
     "text": [
      "25\n",
      "22\n",
      "Area of rectangle is: 550\n"
     ]
    }
   ],
   "source": [
    "width = int(input())\n",
    "height = int(input())\n",
    "area = width * height\n",
    "print('Area of rectangle is:',area)"
   ]
  },
  {
   "cell_type": "markdown",
   "id": "ad125c5b",
   "metadata": {},
   "source": [
    "Write a Python program that converts temperature from Celsius to\n",
    "Fahrenheit. Take the temperature in Celsius as input, store it in a\n",
    "variable, convert it to Fahrenheit, and display the result"
   ]
  },
  {
   "cell_type": "code",
   "execution_count": 7,
   "id": "286db892",
   "metadata": {},
   "outputs": [
    {
     "name": "stdout",
     "output_type": "stream",
     "text": [
      "32\n",
      "Celsius to Fahrenheit  89.6\n"
     ]
    }
   ],
   "source": [
    "celsius = int(input())\n",
    "fahrenheit = celsius * (9/5) + 32\n",
    "print('Celsius to Fahrenheit ',fahrenheit)"
   ]
  },
  {
   "cell_type": "markdown",
   "id": "d714f31a",
   "metadata": {},
   "source": [
    "Python program that takes a string as input and prints the\n",
    "length of the string"
   ]
  },
  {
   "cell_type": "code",
   "execution_count": 8,
   "id": "c335b0dc",
   "metadata": {},
   "outputs": [
    {
     "name": "stdout",
     "output_type": "stream",
     "text": [
      "Hello World\n",
      "11\n"
     ]
    }
   ],
   "source": [
    "String = str(input())\n",
    "print(len(String))"
   ]
  },
  {
   "cell_type": "markdown",
   "id": "d9be22eb",
   "metadata": {},
   "source": [
    "Create a program that takes a sentence from the user and counts the\n",
    "number of vowels (a, e, i, o, u) in the string"
   ]
  },
  {
   "cell_type": "code",
   "execution_count": 18,
   "id": "87f801fd",
   "metadata": {},
   "outputs": [
    {
     "name": "stdout",
     "output_type": "stream",
     "text": [
      "Hello World\n",
      "Count of vowels  3\n"
     ]
    }
   ],
   "source": [
    "String = str(input())\n",
    "count = 0\n",
    "Vowles = ['A','E','I','O','U','a','e','i','o','u']\n",
    "for i in range(len(String)):\n",
    "    if String[i] in Vowles:\n",
    "        count += 1 \n",
    "print('Count of vowels: ',count)"
   ]
  },
  {
   "cell_type": "markdown",
   "id": "db558165",
   "metadata": {},
   "source": [
    "Given a string, reverse the order of characters using string slicing and\n",
    "print the reversed string"
   ]
  },
  {
   "cell_type": "code",
   "execution_count": 20,
   "id": "e8eaf9cb",
   "metadata": {},
   "outputs": [
    {
     "name": "stdout",
     "output_type": "stream",
     "text": [
      "Life\n",
      "Reversed string:  efiL\n"
     ]
    }
   ],
   "source": [
    "String = str(input())\n",
    "reverse = String[::-1]\n",
    "print('Reversed string: ', reverse)"
   ]
  },
  {
   "cell_type": "markdown",
   "id": "98e323f5",
   "metadata": {},
   "source": [
    "Write a program that takes a string as input and checks if it is a\n",
    "palindrome (reads the same forwards and backwards)."
   ]
  },
  {
   "cell_type": "code",
   "execution_count": 28,
   "id": "1196462b",
   "metadata": {},
   "outputs": [
    {
     "name": "stdout",
     "output_type": "stream",
     "text": [
      "\n",
      "Palindrome \n"
     ]
    }
   ],
   "source": [
    "String = str(input())\n",
    "x = String.lower()\n",
    "Reverse = x[::-1]\n",
    "if x == Reverse:\n",
    "    print('Palindrome',String)\n",
    "else:\n",
    "    print('Not Palindrome',String)"
   ]
  },
  {
   "cell_type": "markdown",
   "id": "9fbedc3f",
   "metadata": {},
   "source": [
    "Create a program that takes a string as input and removes all the\n",
    "spaces from it. Print the modified string without spaces"
   ]
  },
  {
   "cell_type": "code",
   "execution_count": 36,
   "id": "a823759e",
   "metadata": {},
   "outputs": [
    {
     "name": "stdout",
     "output_type": "stream",
     "text": [
      "A B C D E\n",
      "ABCDE\n"
     ]
    }
   ],
   "source": [
    "String = str(input())\n",
    "Space = String.replace(' ','')\n",
    "print(Space)"
   ]
  }
 ],
 "metadata": {
  "kernelspec": {
   "display_name": "Python 3 (ipykernel)",
   "language": "python",
   "name": "python3"
  },
  "language_info": {
   "codemirror_mode": {
    "name": "ipython",
    "version": 3
   },
   "file_extension": ".py",
   "mimetype": "text/x-python",
   "name": "python",
   "nbconvert_exporter": "python",
   "pygments_lexer": "ipython3",
   "version": "3.9.13"
  }
 },
 "nbformat": 4,
 "nbformat_minor": 5
}
